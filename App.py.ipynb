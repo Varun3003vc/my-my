{
 "cells": [
  {
   "cell_type": "code",
   "execution_count": 4,
   "id": "90f8ae3f",
   "metadata": {},
   "outputs": [
    {
     "name": "stderr",
     "output_type": "stream",
     "text": [
      "C:\\Users\\varun\\anaconda3\\lib\\site-packages\\sklearn\\base.py:420: UserWarning: X does not have valid feature names, but LinearRegression was fitted with feature names\n",
      "  warnings.warn(\n"
     ]
    }
   ],
   "source": [
    "import streamlit as st\n",
    "import pandas as pd\n",
    "from sklearn.linear_model import LinearRegression\n",
    "\n",
    "# Load the insurance data\n",
    "insurance_data = pd.read_csv(\"C:\\\\Users\\\\varun\\Downloads\\\\insurance.csv\")\n",
    "\n",
    "# Create a linear regression model\n",
    "model = LinearRegression()\n",
    "\n",
    "# Train the model\n",
    "model.fit(insurance_data[['age', 'bmi', 'children']], insurance_data['charges'])\n",
    "\n",
    "# Set the page title\n",
    "st.title(\"Health Insurance Cost Prediction\")\n",
    "\n",
    "# Create input fields\n",
    "age = st.number_input(\"Age\", min_value=0, max_value=100, value=30)\n",
    "bmi = st.number_input(\"BMI\", min_value=10, max_value=50, value=25)\n",
    "children = st.number_input(\"Children\", min_value=0, max_value=10, value=0)\n",
    "\n",
    "# Predict the cost\n",
    "predicted_cost = model.predict([[age, bmi, children]])\n",
    "\n",
    "# Display the predicted cost\n",
    "st.subheader(\"Prediction Result\")\n",
    "st.write(f\"The predicted cost is: ${predicted_cost[0]:.2f}\")"
   ]
  },
  {
   "cell_type": "code",
   "execution_count": null,
   "id": "63e2cda5",
   "metadata": {},
   "outputs": [],
   "source": []
  },
  {
   "cell_type": "code",
   "execution_count": null,
   "id": "1d797338",
   "metadata": {},
   "outputs": [],
   "source": []
  }
 ],
 "metadata": {
  "kernelspec": {
   "display_name": "Python 3 (ipykernel)",
   "language": "python",
   "name": "python3"
  },
  "language_info": {
   "codemirror_mode": {
    "name": "ipython",
    "version": 3
   },
   "file_extension": ".py",
   "mimetype": "text/x-python",
   "name": "python",
   "nbconvert_exporter": "python",
   "pygments_lexer": "ipython3",
   "version": "3.10.9"
  }
 },
 "nbformat": 4,
 "nbformat_minor": 5
}
